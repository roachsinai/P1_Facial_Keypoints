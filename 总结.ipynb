{
 "cells": [
  {
   "cell_type": "markdown",
   "metadata": {},
   "source": [
    "在[3. Facial Keypoint Detection, Complete Pipeline.ipynb]()中可以发现这里奥巴马夫妇的脸并没有完全包括到矩形区域里面，如果直接将矩形区域传入模型，那么预测的关键点\n",
    "\n",
    "~~**下巴的轮廓将和下嘴唇非常靠近！**~~\n",
    "\n",
    "实际上是，整个预测关键点的scatter图像感觉向中心缩小了！主要是因为，**训练数据基本并不是这种haar_cascade输出的这种图像——绝大部分区域的都是人脸**，所以\n",
    "\n",
    "需要增大输入模型的矩形区域。对于haar_cascade得到的人脸区域，左右上下个增加`60`个像素点，或者将宽高扩大两倍。"
   ]
  },
  {
   "cell_type": "markdown",
   "metadata": {},
   "source": [
    "---\n",
    "\n",
    "而在[4. Fun with Keypoints.ipynb]()中用到以下的旋转函数，"
   ]
  },
  {
   "cell_type": "code",
   "execution_count": 1,
   "metadata": {},
   "outputs": [],
   "source": [
    "def rotate_image(mat, angle):\n",
    "    height, width = mat.shape[:2]\n",
    "    image_center = (width / 2, height / 2)\n",
    "\n",
    "    rotation_mat = cv2.getRotationMatrix2D(image_center, angle, 1)\n",
    "\n",
    "    radians = math.radians(angle)\n",
    "    sin = math.sin(radians)\n",
    "    cos = math.cos(radians)\n",
    "    bound_w = int((height * abs(sin)) + (width * abs(cos)))\n",
    "    bound_h = int((height * abs(cos)) + (width * abs(sin)))\n",
    "\n",
    "    # 之前图片的旋转中心（图片中心点）在image_center,在新的图片的中心点为(bound_w / 2, bound_h / 2)\n",
    "    # 也就是说中心点相距图片的左上角（(0, 0)）发生了移动\n",
    "    # 相减即为中心点移动向量，而图片中的其它点的移动向量也是这个\n",
    "    rotation_mat[0, 2] += ((bound_w / 2) - image_center[0])\n",
    "    rotation_mat[1, 2] += ((bound_h / 2) - image_center[1])\n",
    "\n",
    "    rotated_mat = cv2.warpAffine(mat, rotation_mat, (bound_w, bound_h))\n",
    "    return rotated_mat"
   ]
  },
  {
   "cell_type": "markdown",
   "metadata": {},
   "source": [
    "但是实现的旋转的效果并不理想，通过opencv画的关键点发现CNN模型预测的关键点基本没有随着脸的偏转而发生对应的偏转。\n",
    "\n",
    "同样，训练数据中人脸有足够倾斜（不管是正脸还是侧脸都是竖直的）的图片较少，模型可能没有学习这方面的参数（导致对关键点的预测都是竖直的）。"
   ]
  },
  {
   "cell_type": "markdown",
   "metadata": {},
   "source": [
    "## 未完待续\n",
    "\n",
    "现在做的只是人在保持眼睛正视前方的情况下，旋转头部（右侧倾头或者左侧倾头）时眼镜随之旋转。\n",
    "\n",
    "1. 抬头看或者低头看的话，眼镜也做出相应的变化。\n",
    "    1. 依据鼻子的几个关键点的连线长度的变化。因为抬头的时候，鼻子在照片中的长度是缩减的，而低头的时候是逐渐增大的过程\n",
    "    2. 所以比较这一时刻与上一时刻鼻子增加或者缩短的比例即可知道是在抬头还是低头\n",
    "    3. 然后需要实现做实验求得我们鼻子变化多少对应抬头多少度\n",
    "    4. 根据抬头或者低头的度数，求得眼镜应该如何做投影变换\n",
    "2. 左右看，眼镜也做出相应的变化\n",
    "    + 类似抬头或者低头，看人两眼之间距离的变化"
   ]
  },
  {
   "cell_type": "code",
   "execution_count": null,
   "metadata": {},
   "outputs": [],
   "source": []
  }
 ],
 "metadata": {
  "kernelspec": {
   "display_name": "Python 3",
   "language": "python",
   "name": "python3"
  },
  "language_info": {
   "codemirror_mode": {
    "name": "ipython",
    "version": 3
   },
   "file_extension": ".py",
   "mimetype": "text/x-python",
   "name": "python",
   "nbconvert_exporter": "python",
   "pygments_lexer": "ipython3",
   "version": "3.7.4"
  }
 },
 "nbformat": 4,
 "nbformat_minor": 4
}
